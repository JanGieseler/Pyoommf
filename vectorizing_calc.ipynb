{
 "cells": [
  {
   "cell_type": "code",
   "execution_count": 36,
   "metadata": {
    "collapsed": false
   },
   "outputs": [],
   "source": [
    "import numpy as np\n",
    "import scipy as sp\n",
    "from numpy import linalg as LA\n",
    "import matplotlib.pyplot as plt\n",
    "\n",
    "# from EMstatPy import *\n",
    "\n",
    "import time\n",
    "from matplotlib import cm\n",
    "from mpl_toolkits.mplot3d import axes3d\n",
    "\n",
    "# import ConfigParser\n",
    "import json\n",
    "%matplotlib inline\n",
    "import pandas as pd\n",
    "import os\n",
    "import datetime\n",
    "from copy import deepcopy\n",
    "import datetime\n",
    "# ===================================\n",
    "# Settings\n",
    "# ===================================\n",
    "DATA_DIR = './Data/'\n",
    "PARAMETER_FILE ='Magnet.json'\n",
    "\n",
    "MAGNET_NAMES = ['CoBarMagnet_z_motion_y']\n",
    "\n",
    "\n",
    "# determine margin\n",
    "\n",
    "# determine margin with respect to magnet boundaries for which to calculate fields\n",
    "# if a margin is none, the margin is set to half the magnet size along that direction\n",
    "# a1_margin_left, a1_margin_right = 0.25, 0.25\n",
    "# a2_margin_left, a2_margin_right = None, 1.5\n",
    "# a3_margin_left, a3_margin_right = 0.25, 0.25\n",
    "\n",
    "margins = {\n",
    "    'a1':{'left': None, 'right': 2.0},\n",
    "    'a2':{'left':0.25, 'right':0.25},\n",
    "    'a3':{'left':0.25, 'right':0.25}\n",
    "}\n",
    "\n",
    "dx = 2e-2 # get a sample every 20nm\n",
    "# dx = 5e-1 # get a sample every 20nm"
   ]
  },
  {
   "cell_type": "markdown",
   "metadata": {},
   "source": [
    "# function definitions scalar"
   ]
  },
  {
   "cell_type": "code",
   "execution_count": 10,
   "metadata": {
    "collapsed": true
   },
   "outputs": [],
   "source": [
    "# =====================================================================================\n",
    "def calcSingleMomentBfield(r, ri, m):\n",
    "    '''\n",
    "    Calculate the magnetic field of a single magnetic moment\n",
    "\n",
    "    r:  position in space in nm\n",
    "    ri: dipole location in space in nm\n",
    "\n",
    "    m: magnetic moment of a dipole in 1e-18 J / T\n",
    "\n",
    "    Output in T\n",
    "\n",
    "    '''\n",
    "    mu0 = 4 * np.pi *1e-7 # T m /A\n",
    "\n",
    "\n",
    "    a = r-ri\n",
    "    rho = np.sqrt(np.vdot(a, a))\n",
    "\n",
    "    B = mu0 / (4 * np.pi ) * (\n",
    "         3. * a * np.vdot(m, a) / rho**5\n",
    "        - m / rho**3\n",
    "        )\n",
    "\n",
    "\n",
    "    return B\n",
    "\n",
    "\n",
    "# =====================================================================================\n",
    "def calcBfield(r, DipolePositions, m):\n",
    "    '''\n",
    "    Calculate the magnetic field for a collection of dipoles\n",
    "    r:  position in space in nm\n",
    "    ri: dipole location in space in nm\n",
    "\n",
    "    m: magnetic moment of a dipole in 1e-18 J/T\n",
    "\n",
    "    Output in T\n",
    "    '''\n",
    "\n",
    "    res = 0.\n",
    "\n",
    "    for ri in DipolePositions:\n",
    "        res += calcSingleMomentBfield(r, ri, m)\n",
    "    return res\n",
    "\n",
    "\n",
    "def calcSingleMomentGradient(r, ri, m, s, n):\n",
    "    '''\n",
    "    Calculate the Gradient of a single magnetic moment\n",
    "\n",
    "    r:  position in space in nm\n",
    "    ri: dipole location in space in nm\n",
    "\n",
    "    m: magnetic moment of a dipole in 1e-18 J / T\n",
    "    s: spin vector no units\n",
    "    n: projection vector of the gradient, e.g. motion of resonator\n",
    "\n",
    "    Output in T/um\n",
    "\n",
    "    '''\n",
    "    mu0 = 4 * np.pi *1e-7\n",
    "\n",
    "\n",
    "    a = r-ri\n",
    "    rho = np.sqrt(np.vdot(a, a))\n",
    "\n",
    "    gradB = 3. * mu0 / (4 * np.pi * (rho)**5) * (\n",
    "         np.vdot(a, m) * np.vdot(s, n)\n",
    "        +np.vdot(a, s) * np.vdot(m, n)\n",
    "        - (5 * np.vdot(a, s) * np.vdot(a, m) / rho**2 - np.vdot(m, s) ) * np.vdot(a, n)\n",
    "        )\n",
    "\n",
    "    return gradB\n",
    "\n",
    "\n",
    "\n",
    "# =====================================================================================\n",
    "def calcGradient(r, DipolePositions, m, s, n):\n",
    "    '''\n",
    "    Calculate the gradient for a collection of dipoles\n",
    "    r:  position in space in nm\n",
    "    ri: dipole location in space in nm\n",
    "\n",
    "    m: magnetic moment of a dipole in 1e-18J/T\n",
    "    s: spin vector no units\n",
    "    n: projection vector of the gradient, e.g. motion of resonator\n",
    "\n",
    "    Output in T/um\n",
    "    '''\n",
    "\n",
    "    res = 0.\n",
    "\n",
    "    for ri in DipolePositions:\n",
    "        res += calcSingleMomentGradient(r, ri, m, s, n)\n",
    "    return res\n",
    "\n",
    "# =====================================================================================\n",
    "def calcDipolePositions(MagnetDimensions, NumberOfDipoles):\n",
    "    '''\n",
    "        MagnetDimensions: vector with components height, width, length in um\n",
    "        NumberOfDipoles: Number of along each dimension, x (height), y (width), z (length)\n",
    "    '''\n",
    "\n",
    "    Nx, Ny, Nz = NumberOfDipoles\n",
    "    H, W, L = MagnetDimensions\n",
    "\n",
    "    X = np.linspace(-H/2,H/2,Nx, endpoint=True)\n",
    "    Y = np.linspace(-W/2,W/2,Ny, endpoint=True)\n",
    "    Z = np.linspace(-L/2,L/2,Nz, endpoint=True)\n",
    "\n",
    "    DipolePositions = np.array([np.array([x,y,z]) for x in X for y in Y for z in Z])\n",
    "\n",
    "    return DipolePositions\n",
    "\n",
    "# =====================================================================================\n",
    "def calcDipoleMoment(DipolePositions, MagnetDimensions, AtomMass, AtomDensity, gFactor):\n",
    "    '''\n",
    "        Calculated the dipole moment of a single dipole in the magnet in units of 1e-18 J / T\n",
    "        DipolePositions in um\n",
    "        MagnetDimensions in um\n",
    "        AtomMass in atomic units (Daltons)\n",
    "        AtomDensity in 1/m^3\n",
    "    '''\n",
    "    BohrMagneton = 9.27e-24 # J/T\n",
    "    N = AtomDensity/ (AtomMass * 1.66e-27) * np.prod(MagnetDimensions)\n",
    "    m = gFactor * BohrMagneton * N / len(DipolePositions)\n",
    "\n",
    "    return m"
   ]
  },
  {
   "cell_type": "markdown",
   "metadata": {},
   "source": [
    "# function definitions vector"
   ]
  },
  {
   "cell_type": "code",
   "execution_count": 14,
   "metadata": {
    "collapsed": true
   },
   "outputs": [],
   "source": [
    "def calcBfield_vec(r, DipolePositions, m):\n",
    "    '''\n",
    "    Calculate the magnetic field for a collection of dipoles\n",
    "    r: (vector of length 3), position in space in nm \n",
    "    ri: (matrix with dimension m x 3) m dipole locations in space in nm\n",
    "    \n",
    "    m: magnetic moment of a dipole in 1e-18 J/T\n",
    "    \n",
    "    Output in T\n",
    "    '''\n",
    "\n",
    "    \n",
    "    \n",
    "    res = 0.\n",
    "    \n",
    "    mu0 = 4 * np.pi *1e-7 # T m /A\n",
    "    \n",
    "    a = np.ones((np.shape(DipolePositions)[0],1)) * np.array([r])-DipolePositions\n",
    "    rho = np.array([np.sqrt(np.sum(a**2,1))]).transpose()*np.ones((1,3))\n",
    "    # calculate the vector product of m and a: m*(r-ri)\n",
    "    ma = np.array([np.sum(np.ones((np.shape(DipolePositions)[0],1)) * np.array([m])*a,1)]).transpose()*np.ones((1,3))\n",
    "    \n",
    "    B = mu0 / (4 * np.pi ) * ( 3. * a * ma / rho**5\n",
    "        - m / rho**3\n",
    "        )\n",
    "           \n",
    "    return np.sum(B,0)"
   ]
  },
  {
   "cell_type": "code",
   "execution_count": 11,
   "metadata": {
    "collapsed": true
   },
   "outputs": [],
   "source": [
    "def setup_calculation(config, margins):\n",
    "    \"\"\"\n",
    "    config: dictionary with the settings for the magnet\n",
    "    \"\"\"\n",
    "    \n",
    "\n",
    "    density = float(config['magnet_material_parameters']['density_kg/m^3'])\n",
    "    atom_mass = float(config['magnet_material_parameters']['atom_mass_dalton'])\n",
    "    g_factor = float(config['magnet_material_parameters']['g_factor'])\n",
    "\n",
    "    \n",
    "    md = config['magnet_dimensions_um']\n",
    "    magnet_dimensions = np.array([float(md['height']), float(md['width']), float(md['length'])])\n",
    "    height, width, length = magnet_dimensions\n",
    "    nd = config['number_of_dipoles']\n",
    "        \n",
    "    number_of_dipoles = np.array([float(nd['nx']), float(nd['ny']), float(nd['nz'])])\n",
    "    dipole_positions = calcDipolePositions(magnet_dimensions, number_of_dipoles)\n",
    "\n",
    "    s  = np.array(config['unit_vector_spin'])\n",
    "    m  = np.array(config['unit_vector_magnet'])\n",
    "    n  = np.array(config['unit_vector_motion'])\n",
    "\n",
    "    s /= np.linalg.norm(s)\n",
    "    m /= np.linalg.norm(m)\n",
    "    n /= np.linalg.norm(n)\n",
    "    \n",
    "    m *= calcDipoleMoment(dipole_positions, magnet_dimensions, atom_mass, density, g_factor)\n",
    "    \n",
    "    A1, A2, A3 = calc_grid(margins, dx, md)\n",
    "    \n",
    "    return A1, A2, A3, s, m, n, dipole_positions\n",
    "def calc_grid(margins, dx, md):\n",
    "    \"\"\"\n",
    "    margin: margins as a dictionary\n",
    "    dx: grid spacing betwe\n",
    "    md: magnet dimensions as dictionary\n",
    "    \"\"\"\n",
    "    magnet_dimensions = np.array([float(md['height']), float(md['width']), float(md['length'])])\n",
    "    height, width, length = magnet_dimensions\n",
    "        \n",
    "    a1min = 0.0 if margins['a1']['left'] is None else -height/2-margins['a1']['left']\n",
    "    a1max = 0.0 if margins['a1']['right'] is None else height/2+margins['a1']['right']\n",
    "    a2min = 0.0 if margins['a2']['left'] is None else -width/2-margins['a2']['left']\n",
    "    a2max = 0.0 if margins['a2']['right'] is None else width/2+margins['a2']['right']\n",
    "    a3min = 0.0 if margins['a3']['left'] is None else -length/2-margins['a3']['left']\n",
    "    a3max = 0.0 if margins['a3']['right'] is None else length/2+margins['a3']['right']\n",
    "\n",
    "    A3 = np.linspace(a3min, a3max,(a3max-a3min)/dx, endpoint=True)\n",
    "    A2 = np.linspace(a2min, a2max,(a2max-a2min)/dx, endpoint=True)\n",
    "    A1 = np.linspace(a1min, a1max,(a1max-a1min)/dx, endpoint=True)\n",
    "    \n",
    "    return A1, A2, A3"
   ]
  },
  {
   "cell_type": "code",
   "execution_count": 12,
   "metadata": {
    "collapsed": false
   },
   "outputs": [],
   "source": [
    "config = json.loads(open('{:s}'.format(PARAMETER_FILE)).read())\n",
    "A1, A2, A3, s, m, n, dipole_positions = setup_calculation(config[MAGNET_NAMES[0]], margins)"
   ]
  },
  {
   "cell_type": "markdown",
   "metadata": {},
   "source": [
    "# speed up for B field"
   ]
  },
  {
   "cell_type": "code",
   "execution_count": 16,
   "metadata": {
    "collapsed": false
   },
   "outputs": [
    {
     "name": "stdout",
     "output_type": "stream",
     "text": [
      "scalar calculation\n",
      "0:00:00.541468\n",
      "vector calculation\n",
      "0:00:00.012211\n",
      "speed up\n",
      "44.342641880271884\n",
      "identical result:\n"
     ]
    },
    {
     "data": {
      "text/plain": [
       "0.0"
      ]
     },
     "execution_count": 16,
     "metadata": {},
     "output_type": "execute_result"
    }
   ],
   "source": [
    "a1, a2 = A1[5], A2[4]\n",
    "\n",
    "rs = np.array([np.array([a1,a2,a3]) for a3 in A3])\n",
    "rs  = rs[0:4,:]\n",
    "\n",
    "t1 = datetime.datetime.now()\n",
    "B = np.array([calcBfield(r, dipole_positions, m) for r in rs])\n",
    "t2 = datetime.datetime.now()\n",
    "print('scalar calculation')\n",
    "print((t2-t1))\n",
    "\n",
    "t3 = datetime.datetime.now()\n",
    "B2 = np.array([calcBfield_vec(r, dipole_positions, m) for r in rs])\n",
    "t4 = datetime.datetime.now()\n",
    "print('vector calculation')\n",
    "print((t4-t3))\n",
    "print('speed up')\n",
    "print((t2-t1)/(t4-t3))\n",
    "print('identical result:')\n",
    "np.sum(B - B2)"
   ]
  },
  {
   "cell_type": "markdown",
   "metadata": {},
   "source": [
    "# speed up for Gradient field"
   ]
  },
  {
   "cell_type": "code",
   "execution_count": 35,
   "metadata": {
    "collapsed": false
   },
   "outputs": [
    {
     "name": "stdout",
     "output_type": "stream",
     "text": [
      "scalar calculation\n",
      "0:00:08.947462\n",
      "vector calculation\n",
      "0:00:00.136127\n",
      "speed up\n",
      "65.72878268087888\n",
      "identical result:\n"
     ]
    },
    {
     "data": {
      "text/plain": [
       "6.8828406515897278e-15"
      ]
     },
     "execution_count": 35,
     "metadata": {},
     "output_type": "execute_result"
    }
   ],
   "source": [
    "a1, a2 = A1[5], A2[4]\n",
    "\n",
    "rs = np.array([np.array([a1,a2,a3]) for a3 in A3])\n",
    "# rs  = rs[0:4,:]\n",
    "\n",
    "t1 = datetime.datetime.now()\n",
    "G = np.array([calcGradient(r, dipole_positions, m, s, n) for r in rs])\n",
    "t2 = datetime.datetime.now()\n",
    "print('scalar calculation')\n",
    "print((t2-t1))\n",
    "\n",
    "t3 = datetime.datetime.now()\n",
    "G2 = np.array([calcGradient_vec(r, dipole_positions, m, s, n) for r in rs])\n",
    "t4 = datetime.datetime.now()\n",
    "print('vector calculation')\n",
    "print((t4-t3))\n",
    "print('speed up')\n",
    "print((t2-t1)/(t4-t3))\n",
    "print('identical result:')\n",
    "np.sum(G - G2)"
   ]
  },
  {
   "cell_type": "code",
   "execution_count": 33,
   "metadata": {
    "collapsed": true
   },
   "outputs": [],
   "source": [
    "# =====================================================================================\n",
    "def calcGradient_vec(r, DipolePositions, m, s, n):\n",
    "    '''\n",
    "    Calculate the gradient for a collection of dipoles\n",
    "    r: (vector of length 3) position in space in nm\n",
    "    ri: (matrix with dimension m x 3) m dipole location in space in nm\n",
    "\n",
    "    m: (vector of length 3) magnetic moment of a dipole in 1e-18J/T\n",
    "    s: (vector of length 3) spin vector no units\n",
    "    n: (vector of length 3) projection vector of the gradient, e.g. motion of resonator\n",
    "\n",
    "    Output in T/um\n",
    "    '''\n",
    "\n",
    "    mu0 = 4 * np.pi *1e-7\n",
    "\n",
    "\n",
    "    a = np.ones((np.shape(DipolePositions)[0],1)) * np.array([r])-DipolePositions\n",
    "    rho = np.sqrt(np.sum(a**2,1))\n",
    "    # calculate the vector product of m and a: m*(r-ri)\n",
    "    ma = np.sum(np.ones((np.shape(DipolePositions)[0],1)) * np.array([m])*a,1)\n",
    "    # calculate the vector product of s and a: s*(r-ri)\n",
    "    sa = np.sum(np.ones((np.shape(DipolePositions)[0],1)) * np.array([s])*a,1)\n",
    "    # calculate the vector product of n and a: n*(r-ri)\n",
    "    na = np.sum(np.ones((np.shape(DipolePositions)[0],1)) * np.array([n])*a,1)\n",
    "\n",
    "    \n",
    "    gradB = 3. * mu0 / (4 * np.pi * (rho)**5) * (\n",
    "         ma * np.vdot(s, n)\n",
    "        +sa * np.vdot(m, n)\n",
    "        - (5 * sa * ma / rho**2 - np.vdot(m, s) ) * na\n",
    "        )\n",
    "    return np.sum(gradB,0)"
   ]
  },
  {
   "cell_type": "code",
   "execution_count": 31,
   "metadata": {
    "collapsed": false
   },
   "outputs": [
    {
     "name": "stdout",
     "output_type": "stream",
     "text": [
      "----\n",
      "(10240,) (10240,) (10240,)\n",
      "ccc ()\n"
     ]
    },
    {
     "data": {
      "text/plain": [
       "-0.028323195220016407"
      ]
     },
     "execution_count": 31,
     "metadata": {},
     "output_type": "execute_result"
    }
   ],
   "source": [
    "calcGradient_vec(rs[0], dipole_positions, m, s, n)"
   ]
  },
  {
   "cell_type": "code",
   "execution_count": null,
   "metadata": {
    "collapsed": true
   },
   "outputs": [],
   "source": [
    "# =====================================================================================\n",
    "def calcGradient_vec(r, DipolePositions, m, s, n):\n",
    "    '''\n",
    "    Calculate the gradient for a collection of dipoles\n",
    "    r: (vector of length 3) position in space in nm\n",
    "    ri: (matrix with dimension m x 3) m dipole location in space in nm\n",
    "\n",
    "    m: (vector of length 3) magnetic moment of a dipole in 1e-18J/T\n",
    "    s: (vector of length 3) spin vector no units\n",
    "    n: (vector of length 3) projection vector of the gradient, e.g. motion of resonator\n",
    "\n",
    "    Output in T/um\n",
    "    '''\n",
    "\n",
    "    mu0 = 4 * np.pi *1e-7\n",
    "\n",
    "\n",
    "    a = np.ones((np.shape(DipolePositions)[0],1)) * np.array([r])-DipolePositions\n",
    "    rho = np.array([np.sqrt(np.sum(a**2,1))]).transpose()*np.ones((1,3))\n",
    "    # calculate the vector product of m and a: m*(r-ri)\n",
    "    ma = np.array([np.sum(np.ones((np.shape(DipolePositions)[0],1)) * np.array([m])*a,1)]).transpose()*np.ones((1,3))\n",
    "    sa = np.array([np.sum(np.ones((np.shape(DipolePositions)[0],1)) * np.array([s])*a,1)]).transpose()*np.ones((1,3))\n",
    "    na = np.array([np.sum(np.ones((np.shape(DipolePositions)[0],1)) * np.array([n])*a,1)]).transpose()*np.ones((1,3))\n",
    "    print('----')\n",
    "    print(np.shape(ma), np.shape(sa), np.shape(na))\n",
    "    \n",
    "    gradB = 3. * mu0 / (4 * np.pi * (rho)**5) * (\n",
    "         ma * np.vdot(s, n)\n",
    "        +sa * np.vdot(m, n)\n",
    "        - (5 * sa * ma / rho**2 - np.vdot(m, s) ) * na\n",
    "        )\n",
    "    print('ccc', np.shape(np.sum(gradB,0)))\n",
    "    return np.sum(gradB,0)"
   ]
  }
 ],
 "metadata": {
  "kernelspec": {
   "display_name": "Python 3",
   "language": "python",
   "name": "python3"
  },
  "language_info": {
   "codemirror_mode": {
    "name": "ipython",
    "version": 3.0
   },
   "file_extension": ".py",
   "mimetype": "text/x-python",
   "name": "python",
   "nbconvert_exporter": "python",
   "pygments_lexer": "ipython3",
   "version": "3.5.1"
  }
 },
 "nbformat": 4,
 "nbformat_minor": 0
}